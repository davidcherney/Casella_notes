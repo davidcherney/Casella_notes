{
 "cells": [
  {
   "cell_type": "markdown",
   "id": "263f3df4-41fb-4de3-b56b-c9102038c7d2",
   "metadata": {
    "tags": []
   },
   "source": [
    "# 1: Probability Theory\n",
    "\n",
    "**Definition:** A <u>probability function</u> on a sample space $S$ with a sigma algebra $\\mathcal{B}$ is a function $P$ with domain $\\mathcal{B}$ that satisfies \n",
    "1. $P(A)\\geq 0 ~\\forall A \\in \\mathcal(B)$\n",
    "2. $P(S) = 1$\n",
    "3. for pairwise disjoint sets $P(\\cup_{i}A_i) = \\sum\\limits_{i}P(A_i)$."
   ]
  },
  {
   "cell_type": "markdown",
   "id": "7aa39151-e0b8-49de-b6a4-27cbf8e3d169",
   "metadata": {
    "tags": []
   },
   "source": [
    "**Bonferoni's inequality**: $P(A\\cap B) \\geq P(A) + P(B)-1$ is nice to internalize for probabilities close to 1. For example, if there is a 95% chance of Seth coming over and a 98% chance of Luke coming over, then there is at least a probaility of $.95+.98 -1 = (1-.05)+ (1-.02) -1 = 1-.07 = 93\\% $of them both coming. This theorem works as a kind of \"not likely\" additivity: 99% chance of not getting a royal flush, 98% chance of not getting a flush, so at least 97% chance of neither."
   ]
  },
  {
   "cell_type": "markdown",
   "id": "f3c92be8-1bff-454e-88e7-98bdf870919b",
   "metadata": {},
   "source": [
    "**Definition:** A random variable is a <u>continuous random variable</u> if its CDF is continuous. \n",
    "\n",
    "**Definition:** A random variable is a <u>discrete random variable</u> if its CDF is a step function. \n",
    "\n",
    "Me: Interestingly, they define this in terms of the resulting CDF instead of in terms of the underlying random variable as a function from the sample space. I'm also fascinated by the possibility of a combination, like a piecwise exponential instead of a piecewise contanst function."
   ]
  },
  {
   "cell_type": "markdown",
   "id": "030e63b9-e3d4-40b7-9a18-37e46c6cafee",
   "metadata": {
    "tags": []
   },
   "source": [
    "----\n",
    "**Dfn:**\n",
    "The random variables $X$ and $Y$ are **identically distributed** if for all $A \\in B^1$ (the smallest algebra containing all intervals of the form $(a,b), (a,b], [a,b),$ and $[a,b]$) \n",
    "$$\n",
    "P(X\\in A) = P(Y\\in A).\n",
    "$$\n",
    "----\n",
    "This does not mean that the two random variables $X$ and $Y$ are equal. In fact, their domains do not need to be the same for the distributions to be the same.\n",
    "\n",
    "**e.g.** Toss 3 coins, $X$ is number of times heads appears, $y $ is number of times tails appears. \n",
    "$$P_X(1 ) = P\\left( \\left\\{[H,T,T], [T,H,T], [T,T,H] \\right\\} \\right) = 3/8$$\n",
    "$$P_Y(1 ) = P\\left( \\left\\{ [H,H,T], [H,T,H], [T,H,H]\\right\\} \\right) = 3/8$$\n",
    "etc. \n",
    "\n",
    "e.g. $X$ is umber of heads that come up in 2 coins, $Y$ is the number of even cards in 2 draws from deck with cards 1-10, with replacement. The sample spaces **not** are the same but the probaility distributions are. \n",
    "\n",
    "\n",
    "\n",
    "\n"
   ]
  },
  {
   "cell_type": "markdown",
   "id": "57e06263-4941-4d2a-b521-fb4f88d3437f",
   "metadata": {
    "tags": []
   },
   "source": [
    "I'd love to come up with some explicit examples of normal distributions explicitly calculated by probability function and random variables that are differet but give IID distributions. Bu I do not have a foothod. "
   ]
  },
  {
   "cell_type": "markdown",
   "id": "58f52be3-657b-4a56-93bf-220d0f5b7e8e",
   "metadata": {
    "tags": []
   },
   "source": [
    "# Ch2 Transformations and Expectations"
   ]
  },
  {
   "cell_type": "markdown",
   "id": "706b0403-70ea-4231-ad5b-cc978113e6cf",
   "metadata": {
    "tags": []
   },
   "source": [
    "$Y=g(X)$ conveys that the random variable $Y$ is built from the random variable $Y$. Formally it means that \n",
    "$g:\\text{range}X \\to \\mathbb{R}$"
   ]
  },
  {
   "cell_type": "markdown",
   "id": "d498c54e-becf-4ae1-bff6-3cda29684f58",
   "metadata": {
    "tags": []
   },
   "source": [
    "- C&B say: \"from the sample space $\\cal{X}$ of $X$  to the sample space $\\cal{Y}$ of $Y$.\" But the sample space of $X$ is certainly the domain of $X$... ?!? \n",
    "- then they say it is best to use ${\\cal{X}} = \\{x\\,|\\,f_X (x)>0\\}$ and $\\cal{Y} = \\{y~|~ \\exists x~ (y=g(x))\\}$\n",
    "- Thus by sample space of a random variable they mean the range, not the domain (which is the sample space of the experiment) and this is the source of my annoyance with this whole thing. "
   ]
  },
  {
   "cell_type": "markdown",
   "id": "6997c15e-0bfb-4459-b916-8a4baddaf36e",
   "metadata": {},
   "source": [
    "If $\\Omega$ is the sample space of an experiement with probabilty function $P$, then \n",
    " - the pmf $P_X(x) := P(X^{-1}(x))$\n",
    " - the pmf $P_Y(g(x)):=P\\left( X^{-1} \\circ g^{-1}(g(x) ) \\right)$"
   ]
  },
  {
   "cell_type": "markdown",
   "id": "8fd3d283-6fc5-450a-9e70-b727a812a026",
   "metadata": {
    "tags": []
   },
   "source": [
    "The way that PDFs change with variables is described here in terms of a partition of the domain  $\\cal{X}$ into intervals on which $g(x)$ is increasing, decreasing, or is constant. I have not found a way to concixely present it... but feel draw to working thusly. "
   ]
  },
  {
   "cell_type": "markdown",
   "id": "986e5fef-0418-411b-bcad-4596bceecda7",
   "metadata": {},
   "source": [
    "**Answer to an old question:**\n",
    "The distribution $Y = g(X) = F_{X}(X)$ is very interesting \n",
    "- increasing or constant\n",
    "- range $[0,1]$\n",
    "- random sampling on $[0,1]$ is mapped by $g^{-1}$ to sampling according to the pdf $f_X$. "
   ]
  },
  {
   "cell_type": "markdown",
   "id": "da83a27e-9d1e-41d0-b34a-6f753cab80a6",
   "metadata": {
    "tags": []
   },
   "source": []
  },
  {
   "cell_type": "markdown",
   "id": "48aa0f32-d417-4db4-9522-50fd373d4789",
   "metadata": {
    "tags": []
   },
   "source": []
  },
  {
   "cell_type": "markdown",
   "id": "65aa4043-cfe4-49bb-b52b-3c290049e6f8",
   "metadata": {
    "tags": []
   },
   "source": []
  },
  {
   "cell_type": "markdown",
   "id": "1f343e8d-6631-4b70-a82d-16d2a0fe23e2",
   "metadata": {
    "tags": []
   },
   "source": [
    "# 5: Basic Properties of Random Samples"
   ]
  },
  {
   "cell_type": "markdown",
   "id": "7d459889-861b-47d1-ba85-c9af218dfa9e",
   "metadata": {},
   "source": [
    "This chapter aims to describe a process called **random sampling**, which is an experiment consisting of several observations on a variable. "
   ]
  },
  {
   "cell_type": "markdown",
   "id": "1f3181df-a88f-4c57-92a2-f6976abef615",
   "metadata": {},
   "source": [
    "Ch4 had examples."
   ]
  },
  {
   "cell_type": "markdown",
   "id": "f143a0d4-1b50-4071-a8ee-6f517ab78948",
   "metadata": {},
   "source": [
    "## 5.2 Basic Concepts"
   ]
  },
  {
   "cell_type": "markdown",
   "id": "b32c39c3-76ab-4cf4-8346-e26736a1460c",
   "metadata": {},
   "source": [
    "**Definition:** The sequence  $[X_1, \\dots,X_n]$ of random variables is a **random sample** of size $n$ from the population $f(x)$ if the random variables are mutually independent."
   ]
  },
  {
   "cell_type": "markdown",
   "id": "455628c2-01d8-4b35-aaed-80425d05ebdd",
   "metadata": {},
   "source": [
    "Another term for this is **independent and identically distributed** or iid; the random variables are mutually independent and each has the same marginal pdf (or pmf) $f(x)$."
   ]
  },
  {
   "cell_type": "markdown",
   "id": "853d242e-abbe-49c2-a5dd-e69e7d69efbc",
   "metadata": {},
   "source": [
    "The joint pdf (or pmf) of $Y=(X_1,\\dots,X_n)$ is $f(x_1,\\dots,x_n) = \\prod\\limits_{i=1}^n f(x_i)$."
   ]
  },
  {
   "cell_type": "markdown",
   "id": "2eeb9c23-9fd3-4025-ad8f-b04fdb17b7f3",
   "metadata": {},
   "source": [
    "We say that each $X_k$ is an observation on the same variable. Note that the situation being modeled here is sampling with replacement (draw number from a hat, record, put it back, draw again) or **sampling from an infinite population**. Modifications are required for sampling without replacement from a finite population. People often neglect this. "
   ]
  },
  {
   "cell_type": "markdown",
   "id": "46f63bb2-d33f-45ef-911f-134e1dc5e0fb",
   "metadata": {},
   "source": [
    "### Me Speculating"
   ]
  },
  {
   "cell_type": "markdown",
   "id": "0400baab-9553-4362-9daf-495805b45458",
   "metadata": {},
   "source": [
    "An example is the relationship between the exponential distribution ${\\rm expon}: (0,\\infty)\\to \\mathbb{R}$ and the gamma distribution $\\gamma: (0,\\infty)^n \\to \\mathbb{R}$."
   ]
  },
  {
   "cell_type": "markdown",
   "id": "653e7e01-0fa6-4a09-a996-2cd66794ef60",
   "metadata": {},
   "source": [
    "The beta function is applicable to situations where the time rate rate of probability is constant. For example, if five busses come to a buss stop per hour, or one every 12 minutes, the the pdf for the arrival of the next bus is $f(t) = 12 e^{\\frac{1}{12{\\rm min} } t}$. "
   ]
  },
  {
   "cell_type": "code",
   "execution_count": 3,
   "id": "1bd22b33-bef7-4216-b512-ef32311907af",
   "metadata": {},
   "outputs": [],
   "source": [
    "from scipy import stats\n",
    "expon = stats.expon(scale=12)\n"
   ]
  },
  {
   "cell_type": "code",
   "execution_count": 7,
   "id": "f7fe69a8-b5c1-40b1-8db0-d51edcfbdc24",
   "metadata": {},
   "outputs": [
    {
     "data": {
      "text/plain": [
       "(12.0, 12.0)"
      ]
     },
     "execution_count": 7,
     "metadata": {},
     "output_type": "execute_result"
    }
   ],
   "source": [
    "expon.mean(), expon.std()"
   ]
  },
  {
   "cell_type": "code",
   "execution_count": 10,
   "id": "d0ff84b9-44c2-4aa0-8b45-333ee8e6b24a",
   "metadata": {},
   "outputs": [
    {
     "data": {
      "image/png": "[encoded data removed]",
      "text/plain": [
       "<Figure size 432x288 with 1 Axes>"
      ]
     },
     "metadata": {
      "needs_background": "light"
     },
     "output_type": "display_data"
    }
   ],
   "source": [
    "import numpy as np\n",
    "import matplotlib.pyplot as plt\n",
    "xs = np.linspace(0,48,100)\n",
    "ys = expon.pdf(xs)\n",
    "plt.plot(xs,ys);"
   ]
  },
  {
   "cell_type": "markdown",
   "id": "f29332ab-20ba-454f-bf04-c8c7d9cadf9c",
   "metadata": {},
   "source": [
    "The gamma function models multiple exponentialy decaying observables; if there are $\\alpha$ busses, and each comes by every 12 minutes... oop... I see that gamma is the sum of lots of expons.... Not the product. This is a later section in Casella. \n",
    "\n",
    "Likely, preducts of distributions are not interesting enough to get their own names. With the exception of the binomial distribution perhaps? \n",
    "\n",
    "The binomial distribution is also a distribution of a sum of idd Bernoulli distributed random variables. So... I still lack a named common example of a product of random variables. "
   ]
  },
  {
   "cell_type": "markdown",
   "id": "66610773-206e-4cb5-9184-f8e369247346",
   "metadata": {},
   "source": [
    "## 5.2 Sums of Random Variables from a Random Sample"
   ]
  },
  {
   "cell_type": "markdown",
   "id": "1d9a2d68-8241-419c-80e8-9e1d5420c2c6",
   "metadata": {},
   "source": [
    "When a random sample is drawn, some summary of the values $T(x_1,\\dots,x_n)$ is usually computed. The domain of $T$ includes the sample space $\\Omega^n$ of the random vector $(X_1,\\dots,X_n)$, and therefore the summary $T$ is a random variable $Y:=T=T(X_1,\\dots,X_n):\\Omega^n\\to \\mathbb{R}$. Since the distribution of $Y$ is derived from the distribution of the $X_k$, the distribution of $Y$ is called **the sampling distribution** of $Y$ to distinguish\n",
    "- the probability distribution of the $X_k$ ( the sample distribution) from\n",
    "- the probability distribution of $Y$ ( the sampling distribution).  "
   ]
  },
  {
   "cell_type": "markdown",
   "id": "c01be2b8-2c5d-4008-8bd3-a3687748fe92",
   "metadata": {},
   "source": [
    "**Definition** $Y$ is  called a **statistic**. "
   ]
  },
  {
   "cell_type": "markdown",
   "id": "a50edfbf-9f27-4e49-a274-ad7fe733d089",
   "metadata": {},
   "source": [
    "**Definition:** The probability distribution of $Y$ is the **sampling distribution** of $Y$. "
   ]
  },
  {
   "cell_type": "markdown",
   "id": "60ba1c58-3316-4a06-8009-8d7dd5b913b8",
   "metadata": {},
   "source": [
    "The restrictive nature of these definition is that statistic canot be a functin of a parameter. "
   ]
  },
  {
   "cell_type": "markdown",
   "id": "317e7a97-0bb6-49c6-8b0f-1af192b84122",
   "metadata": {},
   "source": [
    "### Examples of statistics:\n",
    "**Definition:** The **sample mean** of the random sample $(X_1,\\dots,X_n)$ is the statistic $$ \\bar{X}(X_1,\\dots,X_n):=\\frac{X_1 + \\cdots +X_n}{n}.$$"
   ]
  },
  {
   "cell_type": "markdown",
   "id": "02b0402c-b63a-4dee-b234-ae06b3a80125",
   "metadata": {},
   "source": [
    "Note that the function notation is typically supressed, and that this really is meant to be a random variable; Casella says that lover case $\\bar{x}$ is used for observed values of the random variable $\\bar{X}$. "
   ]
  },
  {
   "cell_type": "markdown",
   "id": "6a653595-79a0-4d6f-9c10-e24b67c15719",
   "metadata": {},
   "source": [
    "**Lemma:** If $X_1,\\dots,X_n$ i a random sample from a population and the pdf of the $X_k$ is $g$ such that $\\mathbb{E} \\left( g(X_1)\\right)$ and $\\rm{Var} \\left( g(X_1) \\right)$ exist, then \n",
    "$$\n",
    "\\mathbb{E}\\left(\\sum_{i=1}^n g(X_i) \\right) = n\\, \\mathbb{E}(g(X_1)), \n",
    "$$\n",
    "and\n",
    "$$\n",
    "{\\rm Var}\\left(\\sum_{i=1}^n g(X_i)\\right) = n\\left( {\\rm Var}(g(X_1)) \\right).\n",
    "$$"
   ]
  },
  {
   "cell_type": "markdown",
   "id": "0fd5cdd0-8895-437b-ac25-a39634d33b7a",
   "metadata": {},
   "source": [
    "**Proof:** The first follows from the linearity of $\\mathbb{E}$ and the identically distributed nature of the $X_i$. For the second, we start with the definition of varience;\n",
    "$$\n",
    "{\\rm Var}\\left( \\sum_{i=1}^n g(X_i)\\right) = \\mathbb{E}\\left[ \\sum_{i=1}^n g(X_i) - \\mathbb{E}\\left( \\sum_{i=1}^n g(X_i) \\right)   \\right]^2\n",
    "$$\n",
    "\n",
    "$$\n",
    "=\\mathbb{E}\\left[  \\sum_{i=1}^n \\left(g(X_i) - \\mathbb{E}(g(X_i))  \\right)  \\right] ^2\n",
    "$$\n"
   ]
  },
  {
   "cell_type": "markdown",
   "id": "802fa2f0-bfaf-48ff-9159-e854e08907e2",
   "metadata": {},
   "source": [
    "The cross terms with $i\\neq j$ are zero since they are \n",
    "$$\n",
    "\\mathbb{E}\\left( \\left[ g(X_i)-\\mathbb{E}(g(X_i))\\right] \n",
    "\\left[ g(X_j)-\\mathbb{E}(g(X_j))\\right]\n",
    "\\right) =: {\\rm Covar} (g(X_i),g(X_j) ) =0\n",
    "$$\n",
    "because the x_i are iid and thus independent. The diagonal terms \n",
    "$$\n",
    "\\mathbb{E}\\left( \\left[ g(X_i) -\\mathbb{E}(g(X_i)) \\right]^2 \\right) = {\\rm Var}(g(X_i)).\n",
    "$$\n",
    "Last, note that by idenitical distribution, the variance of each $g(X_i)$ is the same. ${\\rm \\square}$"
   ]
  },
  {
   "cell_type": "markdown",
   "id": "3fa92894-b85e-4ad8-b67a-57638dfafa9d",
   "metadata": {},
   "source": [
    "**Theorem:** Further, if $\\mathbb{E}(g(X_1))=\\mu$ and ${\\rm Var}(g( X_1)) = \\sigma^2$ then\n",
    "$$\\mathbb{E} (\\bar{X}) = \\mu$$\n",
    "and\n",
    "$$\n",
    "{\\rm Var}( \\bar{X}) = \\sigma^2/n.\n",
    "$$"
   ]
  },
  {
   "cell_type": "markdown",
   "id": "a1cdbdd2-724e-4bd5-9236-6f86825bb98d",
   "metadata": {},
   "source": [
    "**Proof:** The first comes from linearity of $\\mathbb{E}$ and the n-terms of equal value and the $1/n$. \n",
    "\n",
    "For the second, \n",
    "$$\n",
    "{\\rm Var} \\left(  \\frac1n \\sum_{i=1}^n X_i \\right) \n",
    "= \\frac{1}{n^2}  n {\\rm Var} (X_1) \n",
    "$$\n",
    "using the second result from the lemma above. $\\square$\n",
    "\n",
    "\n",
    "\n",
    "\n"
   ]
  },
  {
   "cell_type": "markdown",
   "id": "4fe054b1-8a85-4d04-9ccd-0876cd773573",
   "metadata": {},
   "source": [
    "There is also $\\mathbb{E}(S^2) = \\sigma^2$ and the proof that the distribution is normal, but I am only so enduarnt. "
   ]
  },
  {
   "cell_type": "markdown",
   "id": "1920fb77-e473-4e0a-a7e2-c360346e4d97",
   "metadata": {},
   "source": [
    "## Answering An old question of mine:"
   ]
  },
  {
   "cell_type": "markdown",
   "id": "19286d25-8a7c-42a9-acaa-85ead9bc5923",
   "metadata": {},
   "source": [
    "Random variables are a mathematical tool to push probabilities foward from the sample space $\\Omega$ to some coordinate space $X(\\Omega)$ for the sample space with the welcome possibility of $X$ being many to one so that $X^{-1}$ is one to many, and the events $X^{-1}(\\omega)$ can contain multiple outcomes."
   ]
  },
  {
   "cell_type": "markdown",
   "id": "10c934e0-07ee-484f-8862-ae94d3511b01",
   "metadata": {},
   "source": [
    "The idea is that the sequence of random variables $[X_1,\\dots,X_n]$ is a function with domain $\\Omega^n$, and that when repeated abservations are made, thereby obtaining a sequence of outcomes $[\\omega_1,\\dots,\\omega_n]$ the random vector maps this vector to $[x_1,\\dots,x_n]$. "
   ]
  },
  {
   "cell_type": "markdown",
   "id": "65681309-7631-4a41-b5f7-3aab43b75acf",
   "metadata": {},
   "source": [
    "### On Convolution and sums of random variables\n",
    "\n",
    "I can't resist making a note of this:\n",
    "\n",
    "**Theorem 5.2.9:** If $X$ and $Y$ are independent continuous random variables with pdfs $f_X$ and $f_Y$, then the pdf of $Z=X+Y$ is the convolution \n",
    "$$\n",
    "f_Z(z) = \\int_\\mathbb{R} f_X(w)f_Y(z-w) dw.\n",
    "$$"
   ]
  },
  {
   "cell_type": "code",
   "execution_count": null,
   "id": "47415d66-3b44-461b-9d47-e0b6037fc415",
   "metadata": {},
   "outputs": [],
   "source": []
  }
 ],
 "metadata": {
  "kernelspec": {
   "display_name": "Python 3 (ipykernel)",
   "language": "python",
   "name": "python3"
  },
  "language_info": {
   "codemirror_mode": {
    "name": "ipython",
    "version": 3
   },
   "file_extension": ".py",
   "mimetype": "text/x-python",
   "name": "python",
   "nbconvert_exporter": "python",
   "pygments_lexer": "ipython3",
   "version": "3.9.18"
  }
 },
 "nbformat": 4,
 "nbformat_minor": 5
}
